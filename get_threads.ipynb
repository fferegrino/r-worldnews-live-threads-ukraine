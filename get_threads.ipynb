{
 "cells": [
  {
   "cell_type": "code",
   "execution_count": 1,
   "id": "30c21929-f009-4b54-90d7-c42ee069faa2",
   "metadata": {},
   "outputs": [],
   "source": [
    "import praw\n",
    "import pandas as pd\n",
    "from datetime import datetime, timedelta\n",
    "import hashlib\n",
    "import os"
   ]
  },
  {
   "cell_type": "code",
   "execution_count": 2,
   "id": "f3f63551-33b2-4a54-be6d-843100564249",
   "metadata": {},
   "outputs": [],
   "source": [
    "begin_point = datetime(2022, 2, 1)\n",
    "today = datetime.utcnow().replace(hour=0, minute=0, second=0, microsecond=0) - timedelta(hours=12)"
   ]
  },
  {
   "cell_type": "code",
   "execution_count": 39,
   "id": "eca34634-ae67-4a40-92f0-fbb2b4bdbe34",
   "metadata": {},
   "outputs": [],
   "source": [
    "reddit = praw.Reddit(\n",
    "    client_id=os.environ[\"CLIENT_ID\"],\n",
    "    client_secret=os.environ[\"CLIENT_SECRET\"],\n",
    "    password=os.environ[\"PASSWORD\"],\n",
    "    user_agent=\"Live Thread Scraper by UkraineNewsBot\",\n",
    "    username=\"UkraineNewsBot\",\n",
    ")"
   ]
  },
  {
   "cell_type": "code",
   "execution_count": 40,
   "id": "398a561f-f478-4527-bac7-1dc8a3d839d6",
   "metadata": {},
   "outputs": [],
   "source": [
    "mods = [\n",
    "    \"qgyh2\", \"maxwellhill\", \"BritishEnglishPolice\", \"anutensil\", \"bennjammin\",\n",
    "    \"DoremusJessup\", \"emmster\", \"green_flash\", \"PraiseBeToScience\", \"WorldNewsMods\",\n",
    "    \"DonTago\", \"istara\", \"Fluttershy_qtest\", \"Surf_Science\", \"imdpathway\",\n",
    "    \"Isentrope\", \"PlanetGuy\", \"alexander1701\", \"wrc-wolf\", \"10ebbor10\",\n",
    "    \"seewolfmdk\", \"mutatron\", \"alfix8\", \"dieyoufool3\", \"MushroomMountain123\",\n",
    "    \"TheEarthquakeGuy\", \"GrumpyFinn\", \"BestFriendWatermelon\", \"NYLaw\", \"hasharin\",\n",
    "    \"tinkthank\", \"DaisyKitty\", \"kwwxis\", \"BlatantConservative\", \"vikinick\",\n",
    "    \"pussgurka\", \"progress18\", \"Morning-Chub\", \"hankhillforprez\", \"Core_Four\",\n",
    "    \"nt337\", \"sunbolts\", \"photonmarchrhopi\", \"PoppinKREAM\", \"Last_Jedi\",\n",
    "    \"ssnistfajen\", \"FreedomsPower\", \"Handicapreader\", \"maybesaydie\", \"_BindersFullOfWomen_\",\n",
    "    \"doc_two_thirty\", \"moombai\", \"abrownn\", \"That_Cupcake\", \"Llim\",\n",
    "    \"slakmehl\", \"MarktpLatz\", \"Mazon_Del\", \"Leerzeichen14\", \"MisterMysterios\",\n",
    "    \"SirT6\", \"Ferelar\", \"Captcha_Imagination\", \"ThaneKyrell\", \"thatnameagain\",\n",
    "    \"loljetfuel\", \"Tidorith\", \"Gunboat_DiplomaC\", \"Petrichordates\", \"Hard_on_Collider\",\n",
    "    \"RedSquirrelFtw\", \"jfoobar\", \"ZippyDan\", \"Yglorba\", \"AftyOfTheUK\",\n",
    "    \"Trips-Over-Tail\", \"Wonckay\", \"Turicus\", \"isnotmad\", \"Iustis\",\n",
    "    \"IsNotACleverMan\", \"Randvek\", \"terminal_mole\", \"grmmrnz\", \"mvea\",\n",
    "    \"Iphotoshopincats\", \"UGMadness\", \"ToadProphet\", \"PapaKnowsDominoes\", \"L_Cranston_Shadow\",\n",
    "    \"allessandro\", \"MSchmahl\", \"indi_n0rd\", \"The_Majestic_\", \"Benocrates\",\n",
    "    \"ThucydidesOfAthens\", \"Emmx2039\", \"valuingvulturefix\", \"Cicero912\", \"whistleridge\",\n",
    "    \"Tetizeraz\", \"Duglitt\", \"ontrack\", \"SecureThruObscure\", \"AdClemson\",\n",
    "    \"jman005\", \"muffpatty\", \"FLAlex111\", \"UrynSM\", \"-doughboy\",\n",
    "    \"AutoModerator\", \"AkaashMaharaj\",\n",
    "]"
   ]
  },
  {
   "cell_type": "code",
   "execution_count": 16,
   "id": "cea143f3-1b17-4982-8c23-95c9163a2897",
   "metadata": {},
   "outputs": [],
   "source": [
    "properties=[\n",
    "    \"id\",\n",
    "            \"created_utc\",\"name\",\"num_comments\",\"permalink\",\n",
    "           \"score\",\"title\",\"upvote_ratio\"]"
   ]
  },
  {
   "cell_type": "code",
   "execution_count": 30,
   "id": "0d074119-ab75-4e64-bdb2-ca4bf9b8ecf8",
   "metadata": {},
   "outputs": [],
   "source": [
    "subs = []\n",
    "for username in mods:\n",
    "    user = reddit.redditor(name=username)\n",
    "    for post in user.submissions.new(limit=200):\n",
    "        subs.append(post)"
   ]
  },
  {
   "cell_type": "code",
   "execution_count": 32,
   "id": "f9f9057c-4bf3-4042-b419-57c312c221b1",
   "metadata": {},
   "outputs": [],
   "source": [
    "subreddits = []\n",
    "for post in subs:\n",
    "    title_low = post.title.lower()\n",
    "    if (\n",
    "        (\n",
    "            title_low.startswith(\"/r/worldnews live thread\")\n",
    "            or title_low.startswith(\"r/worldnews live thread\")\n",
    "            or title_low.startswith(\"worldnews live thread\")\n",
    "        )\n",
    "        and post.created_utc > begin_point.timestamp()\n",
    "        and post.created_utc < today.timestamp()\n",
    "        and True\n",
    "    ):\n",
    "        post_props = [post.author.name]\n",
    "        post_props.extend([getattr(post, pr) for pr in properties])\n",
    "        subreddits.append(post_props)\n"
   ]
  },
  {
   "cell_type": "code",
   "execution_count": 33,
   "id": "fcadcd67-d7b1-4030-a906-f56bd195dd12",
   "metadata": {},
   "outputs": [],
   "source": [
    "def hash_string(content):\n",
    "    return hashlib.md5(content.encode()).hexdigest()"
   ]
  },
  {
   "cell_type": "code",
   "execution_count": 35,
   "id": "1efbe2e9-bf4d-4463-9e7e-6b93d0327101",
   "metadata": {},
   "outputs": [],
   "source": [
    "live_threads = pd.DataFrame(subreddits, columns=[\"author\"] + properties)"
   ]
  },
  {
   "cell_type": "code",
   "execution_count": 36,
   "id": "54415b08-e99e-4559-b4a6-88bb85c4eba2",
   "metadata": {},
   "outputs": [],
   "source": [
    "live_threads[\"created_at\"] = pd.to_datetime(live_threads[\"created_utc\"], unit='s', origin='unix')\n",
    "live_threads[\"author\"] = live_threads[\"author\"].apply(hash_string)"
   ]
  },
  {
   "cell_type": "code",
   "execution_count": 50,
   "id": "d2fe4eb1-0bb7-42a0-9d20-65c9ce7d60b7",
   "metadata": {},
   "outputs": [],
   "source": [
    "live_threads[\n",
    "    [\n",
    "        \"id\", \"name\", \"author\", \"title\", \n",
    "        \"created_utc\", \"created_at\", \n",
    "        \"num_comments\", \"score\", \n",
    "        \"upvote_ratio\", \"permalink\"]\n",
    "].sort_values(\"created_utc\", ascending=True).to_csv(\"data/threads.csv\", index=False)\n"
   ]
  },
  {
   "cell_type": "code",
   "execution_count": null,
   "id": "aff2990a-93a6-41d0-946b-30be2f26689c",
   "metadata": {},
   "outputs": [],
   "source": []
  }
 ],
 "metadata": {
  "kernelspec": {
   "display_name": "Python 3 (ipykernel)",
   "language": "python",
   "name": "python3"
  },
  "language_info": {
   "codemirror_mode": {
    "name": "ipython",
    "version": 3
   },
   "file_extension": ".py",
   "mimetype": "text/x-python",
   "name": "python",
   "nbconvert_exporter": "python",
   "pygments_lexer": "ipython3",
   "version": "3.9.6"
  }
 },
 "nbformat": 4,
 "nbformat_minor": 5
}
